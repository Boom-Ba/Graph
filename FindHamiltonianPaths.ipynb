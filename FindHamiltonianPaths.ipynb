{
  "nbformat": 4,
  "nbformat_minor": 0,
  "metadata": {
    "colab": {
      "name": "FindHamiltonianPaths",
      "provenance": [],
      "authorship_tag": "ABX9TyMQ8zEf/b7W+mCkfBKsLIuW",
      "include_colab_link": true
    },
    "kernelspec": {
      "name": "python3",
      "display_name": "Python 3"
    },
    "language_info": {
      "name": "python"
    }
  },
  "cells": [
    {
      "cell_type": "markdown",
      "metadata": {
        "id": "view-in-github",
        "colab_type": "text"
      },
      "source": [
        "<a href=\"https://colab.research.google.com/github/Boom-Ba/Graph/blob/main/FindHamiltonianPaths.ipynb\" target=\"_parent\"><img src=\"https://colab.research.google.com/assets/colab-badge.svg\" alt=\"Open In Colab\"/></a>"
      ]
    },
    {
      "cell_type": "code",
      "source": [
        "class Solution:\n",
        "\t'''\n",
        "\t# Definition for a Graph\n",
        "\tclass Graph:\n",
        "\t\tdef __init__(self, edges=None, n=0):\n",
        "\n",
        "\t\t\t# Total number of nodes in the graph\n",
        "\t\t\tself.n = n\n",
        "\n",
        "\t\t\t# List of lists to represent an adjacency list\n",
        "\t\t\tself.adjList = [[] for _ in range(n)]\n",
        "\n",
        "\t\t\t# add edges to the undirected graph\n",
        "\t\t\tfor (src, dest) in edges:\n",
        "\t\t\t\tself.adjList[src].append(dest)\n",
        "\t\t\t\tself.adjList[dest].append(src)\n",
        "\t'''\n",
        "\tdef dfs(self,graph, path,visited,n,v,res):\n",
        "\t\n",
        "\t\tif len(path)==n:\n",
        "\t\t\tres.add(tuple(path))\n",
        "\t\t\treturn \n",
        "\t\tvisited[v]=True\n",
        "\t\t\n",
        "\t\tfor nei in graph.adjList[v]:\n",
        "\t\t\tif visited[nei]==False:\n",
        "\t\t\t\tpath.append(nei)\n",
        "\t\t\t\tvisited[nei]=True\n",
        "\t\t\t\t\n",
        "\t\t\t\tself.dfs(graph,path,visited,n,nei,res)\n",
        "\t\t\t\t\n",
        "\t\t\t\tpath.pop()\n",
        "\t\t\t\tvisited[nei]=False\n",
        "\t\t#\n",
        "\tdef findHamiltonianPaths(self, graph: Graph) -> Set[Tuple[int]]:\n",
        "\t\t# Write your code here...\n",
        "\t\tres=set()\n",
        "\t\tfor v in range(graph.n):\n",
        "\t\t\tpath =[v]\n",
        "\t\t\tvisited=[False]*graph.n\n",
        "\t\t\tvisited[v]=True\n",
        "\t\t\tself.dfs(graph,path,visited,graph.n,v,res)\n",
        "\t\treturn res"
      ],
      "metadata": {
        "id": "3bXM627Ccre2"
      },
      "execution_count": null,
      "outputs": []
    },
    {
      "cell_type": "code",
      "source": [
        ""
      ],
      "metadata": {
        "id": "mOVYtayJ0VTI"
      },
      "execution_count": null,
      "outputs": []
    }
  ]
}