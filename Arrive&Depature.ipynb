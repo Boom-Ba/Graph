{
  "nbformat": 4,
  "nbformat_minor": 0,
  "metadata": {
    "colab": {
      "name": "Arrive&Depature",
      "provenance": [],
      "authorship_tag": "ABX9TyOCveX07AirGf+5VJjKaN1b",
      "include_colab_link": true
    },
    "kernelspec": {
      "name": "python3",
      "display_name": "Python 3"
    },
    "language_info": {
      "name": "python"
    }
  },
  "cells": [
    {
      "cell_type": "markdown",
      "metadata": {
        "id": "view-in-github",
        "colab_type": "text"
      },
      "source": [
        "<a href=\"https://colab.research.google.com/github/Boom-Ba/Graph/blob/main/Arrive%26Depature.ipynb\" target=\"_parent\"><img src=\"https://colab.research.google.com/assets/colab-badge.svg\" alt=\"Open In Colab\"/></a>"
      ]
    },
    {
      "cell_type": "code",
      "source": [
        "def DFS(graph, v, discovered, arrival, departure, time):\n",
        "    #initially -1\n",
        "    time = time + 1\n",
        " \n",
        "    # set the arrival time of vertex `v`\n",
        "    arrival[v] = time\n",
        " \n",
        "    # mark vertex as discovered\n",
        "    discovered[v] = True\n",
        " \n",
        "    for i in graph.adjList[v]:\n",
        "        if not discovered[i]:\n",
        "            #time after finishing the last node\n",
        "            time = DFS(graph, i, discovered, arrival, departure, time)\n",
        "            #backtrack\n",
        " \n",
        "    time = time + 1\n",
        "    # set departure time of vertex `v`\n",
        "    departure[v] = time\n",
        "    return time\n",
        "if __name__ == '__main__':\n",
        " \n",
        "    for i in range(n):\n",
        "        if not discovered[i]:\n",
        "            #finish time is the total time needs for completing one connected component\n",
        "            #if there are two, finish_time are time1(finish first CC),time2(finish second CC)\n",
        "            finish_time = DFS(graph, i, discovered, arrival, departure, time)\n",
        "          \n",
        "   "
      ],
      "metadata": {
        "colab": {
          "base_uri": "https://localhost:8080/"
        },
        "id": "OhPaXbNngaQc",
        "outputId": "9ef93e0a-2620-4616-9e59-54560ea8f436"
      },
      "execution_count": 98,
      "outputs": [
        {
          "output_type": "stream",
          "name": "stdout",
          "text": [
            "11\n",
            "15\n",
            "Vertex 0 (0, 11)\n",
            "Vertex 1 (1, 2)\n",
            "Vertex 2 (3, 10)\n",
            "Vertex 3 (4, 7)\n",
            "Vertex 4 (8, 9)\n",
            "Vertex 5 (5, 6)\n",
            "Vertex 6 (12, 15)\n",
            "Vertex 7 (13, 14)\n"
          ]
        }
      ]
    }
  ]
}