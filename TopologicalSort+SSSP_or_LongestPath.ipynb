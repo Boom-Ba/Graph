{
  "nbformat": 4,
  "nbformat_minor": 0,
  "metadata": {
    "colab": {
      "name": "TopologicalSort+SSSP_or_LongestPath",
      "provenance": [],
      "authorship_tag": "ABX9TyOgEwGlOVKqks1qq/qf4jn6",
      "include_colab_link": true
    },
    "kernelspec": {
      "name": "python3",
      "display_name": "Python 3"
    },
    "language_info": {
      "name": "python"
    }
  },
  "cells": [
    {
      "cell_type": "markdown",
      "metadata": {
        "id": "view-in-github",
        "colab_type": "text"
      },
      "source": [
        "<a href=\"https://colab.research.google.com/github/Boom-Ba/Graph/blob/main/TopologicalSort%2BSSSP_or_LongestPath.ipynb\" target=\"_parent\"><img src=\"https://colab.research.google.com/assets/colab-badge.svg\" alt=\"Open In Colab\"/></a>"
      ]
    },
    {
      "cell_type": "code",
      "source": [
        "import sys\n",
        " \n",
        "# A class to represent a graph object\n",
        "class Graph:\n",
        "    # Constructor\n",
        "    def __init__(self, edges, n):\n",
        " \n",
        "        # A list of lists to represent an adjacency list\n",
        "        self.adjList = [[] for _ in range(n)]\n",
        " \n",
        "        # add edges to the directed graph\n",
        "        for (source, dest, weight) in edges:\n",
        "            self.adjList[source].append((dest, weight))\n",
        "#perform DFS for finding topological order\n",
        "\n",
        "def DFS(graph, v, discovered, departure, time):\n",
        " \n",
        "    # mark the current node as discovered\n",
        "    discovered[v] = True\n",
        "\n",
        "    for (u, w) in graph.adjList[v]:\n",
        "        # if `u` is not yet discovered\n",
        "        if not discovered[u]:\n",
        "            time = DFS(graph, u, discovered, departure, time)\n",
        " \n",
        "    departure[time] = v\n",
        "    time = time + 1\n",
        "    return time\n",
        " \n",
        " \n",
        "def findShortestDistance(graph, source, n):\n",
        "\n",
        "    departure = [-1] * n\n",
        " \n",
        "    discovered = [False] * n\n",
        "    time = 0\n",
        " \n",
        "    # perform DFS on all undiscovered vertices\n",
        "    for i in range(n):\n",
        "        if not discovered[i]:\n",
        "            time = DFS(graph, i, discovered, departure, time)\n",
        "    print(departure[::-1])\n",
        "\n",
        "    cost = [sys.maxsize] * n\n",
        "    cost[source] = 0\n",
        "\n",
        "    departure.reverse()\n",
        "    for i in range(n):\n",
        " \n",
        "        v = departure[i]\n",
        " \n",
        "        # edge from `v` to `u` having weight `w`\n",
        "        for des,wei in graph.adjList[v]:\n",
        "          wei =wei #wei =-wei the maximum weight will turn to minimum \n",
        "\n",
        "            # if the distance to destination `u` can be shortened by\n",
        "            # taking edge (v, u), update cost to the new lower value\n",
        "          if cost[v] != sys.maxsize and cost[v] + wei < cost[des]:\n",
        "            cost[des] = cost[v] + wei\n",
        "    print(cost)\n",
        "    # print shortest paths\n",
        "    for i in range(n):\n",
        "        print(f'dist({source}, {i}) = {cost[i]}')\n",
        " \n",
        " \n",
        "if __name__ == '__main__':\n",
        " \n",
        "    # List of graph edges as per the above diagram\n",
        "    edges = [\n",
        "        (0, 6, 2), (1, 2, -4), (1, 4, 1), (1, 6, 8), (3, 0, 3), (3, 4, 5),\n",
        "        (5, 1, 2), (7, 0, 6), (7, 1, -1), (7, 3, 4), (7, 5, -4)\n",
        "    ]\n",
        " \n",
        "    # total number of nodes in the graph (labelled from 0 to 7)\n",
        "    n = 8\n",
        " \n",
        "    # build a graph from the given edges\n",
        "    graph = Graph(edges, n)\n",
        " \n",
        "    # source vertex\n",
        "    source = 7\n",
        " \n",
        "    # find the shortest distance of all vertices from the given source\n",
        "    findShortestDistance(graph, source, n)\n",
        " "
      ],
      "metadata": {
        "colab": {
          "base_uri": "https://localhost:8080/"
        },
        "id": "fBCAV52Ktbw8",
        "outputId": "9118dfcc-f400-4ea2-ee96-0ff389c46e8d"
      },
      "execution_count": 16,
      "outputs": [
        {
          "output_type": "stream",
          "name": "stdout",
          "text": [
            "[7, 5, 3, 1, 4, 2, 0, 6]\n",
            "[6, -2, -6, 4, -1, -4, 6, 0]\n",
            "dist(7, 0) = 6\n",
            "dist(7, 1) = -2\n",
            "dist(7, 2) = -6\n",
            "dist(7, 3) = 4\n",
            "dist(7, 4) = -1\n",
            "dist(7, 5) = -4\n",
            "dist(7, 6) = 6\n",
            "dist(7, 7) = 0\n"
          ]
        }
      ]
    },
    {
      "cell_type": "code",
      "source": [
        ""
      ],
      "metadata": {
        "id": "OJFL370gt4I8"
      },
      "execution_count": null,
      "outputs": []
    }
  ]
}