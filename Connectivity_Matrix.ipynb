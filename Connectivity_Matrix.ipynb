{
  "nbformat": 4,
  "nbformat_minor": 0,
  "metadata": {
    "colab": {
      "name": "Connectivity Matrix",
      "provenance": [],
      "authorship_tag": "ABX9TyMs/bMnRi+o0XHf9D+G5/oA",
      "include_colab_link": true
    },
    "kernelspec": {
      "name": "python3",
      "display_name": "Python 3"
    },
    "language_info": {
      "name": "python"
    }
  },
  "cells": [
    {
      "cell_type": "markdown",
      "metadata": {
        "id": "view-in-github",
        "colab_type": "text"
      },
      "source": [
        "<a href=\"https://colab.research.google.com/github/Boom-Ba/Graph/blob/main/Connectivity_Matrix.ipynb\" target=\"_parent\"><img src=\"https://colab.research.google.com/assets/colab-badge.svg\" alt=\"Open In Colab\"/></a>"
      ]
    },
    {
      "cell_type": "code",
      "source": [
        "def DFS(graph, C, root, curr):\n",
        "    for child in graph.adjList[curr]:\n",
        "        # if `child` is an adjacent vertex of descendant, we have\n",
        "        # found a path from root->child\n",
        "        if C[root][child] == 0:\n",
        "            C[root][child] = 1\n",
        "            DFS(graph, C, root, child)\n",
        " \n",
        "if __name__ == '__main__':\n",
        " \n",
        "    graph = Graph(edges, n)\n",
        "    # `C` is a connectivity matrix and stores the transitive closure\n",
        "    # of the graph. The value of `C[i][j]` is 1 only if a directed\n",
        "    # path exists from vertex `i` to vertex `j`.\n",
        "    C = [[0 for x in range(n)] for y in range(n)]\n",
        " \n",
        "    # consider each vertex and start DFS from it\n",
        "    for v in range(n):\n",
        "        C[v][v] = 1\n",
        "        DFS(graph, C, v, v)\n",
        " "
      ],
      "metadata": {
        "colab": {
          "base_uri": "https://localhost:8080/"
        },
        "id": "55LnZG-IjAqL",
        "outputId": "a5a73f3d-2160-4bac-a90f-00665744395a"
      },
      "execution_count": 116,
      "outputs": [
        {
          "output_type": "stream",
          "name": "stdout",
          "text": [
            "[1, 0, 1, 0]\n",
            "[1, 1, 1, 0]\n",
            "[0, 0, 1, 0]\n",
            "[1, 1, 1, 1]\n"
          ]
        }
      ]
    },
    {
      "cell_type": "code",
      "source": [
        ""
      ],
      "metadata": {
        "id": "kgiseDxWs8xv"
      },
      "execution_count": null,
      "outputs": []
    }
  ]
}