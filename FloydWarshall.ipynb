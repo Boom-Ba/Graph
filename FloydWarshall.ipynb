{
  "nbformat": 4,
  "nbformat_minor": 0,
  "metadata": {
    "colab": {
      "name": "FloydWarshall",
      "provenance": [],
      "authorship_tag": "ABX9TyPzIvo4+9SHZv2W+lsYTR2G",
      "include_colab_link": true
    },
    "kernelspec": {
      "name": "python3",
      "display_name": "Python 3"
    },
    "language_info": {
      "name": "python"
    }
  },
  "cells": [
    {
      "cell_type": "markdown",
      "metadata": {
        "id": "view-in-github",
        "colab_type": "text"
      },
      "source": [
        "<a href=\"https://colab.research.google.com/github/Boom-Ba/Graph/blob/main/FloydWarshall.ipynb\" target=\"_parent\"><img src=\"https://colab.research.google.com/assets/colab-badge.svg\" alt=\"Open In Colab\"/></a>"
      ]
    },
    {
      "cell_type": "code",
      "source": [
        "def FloydWarshall(adjmatrix):\n",
        "  if not adjmatrix:\n",
        "    return \n",
        "  n =len(adjmatrix)\n",
        "  cost=[[None for _ in range(n)] for _ in range(n)]\n",
        "  for i in range(n):\n",
        "    for j in range(n):\n",
        "      if adjmatrix[i][j]==I:\n",
        "        cost[i][j]=-1\n",
        "      else:\n",
        "        cost[i][j]=adjmatrix[i][j]\n",
        "  #dia\n",
        "  for i in range(n):\n",
        "    cost[i][i]=0\n",
        "  #floyd-warshall\n",
        "  #for the intermediate stop k\n",
        "  for k in range(n): \n",
        "    #find every pair\n",
        "    for s in range(n):\n",
        "      for d in range(n):\n",
        "        #if there is vertex k in the shortest path from src->dest\n",
        "        if s!=d and cost[s][k]!=I and cost[k][d]!=I and cost[s][k]+cost[k][d]<cost[s][d]:\n",
        "          cost[s][d] = cost[s][k]+cost[k][d]\n",
        "      if cost[s][s]<0:\n",
        "        print('Neg Cycle')\n",
        "        return\n",
        "  return cost\n"
      ],
      "metadata": {
        "id": "55LnZG-IjAqL"
      },
      "execution_count": 111,
      "outputs": []
    }
  ]
}