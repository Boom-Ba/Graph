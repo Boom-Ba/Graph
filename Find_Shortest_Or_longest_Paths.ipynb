{
  "nbformat": 4,
  "nbformat_minor": 0,
  "metadata": {
    "colab": {
      "name": "Find_Shortest_Or_longest_Paths",
      "provenance": [],
      "authorship_tag": "ABX9TyMB2nrvZ47xAdxgQ+tPywka",
      "include_colab_link": true
    },
    "kernelspec": {
      "name": "python3",
      "display_name": "Python 3"
    },
    "language_info": {
      "name": "python"
    }
  },
  "cells": [
    {
      "cell_type": "markdown",
      "metadata": {
        "id": "view-in-github",
        "colab_type": "text"
      },
      "source": [
        "<a href=\"https://colab.research.google.com/github/Boom-Ba/Graph/blob/main/Find_Shortest_Or_longest_Paths.ipynb\" target=\"_parent\"><img src=\"https://colab.research.google.com/assets/colab-badge.svg\" alt=\"Open In Colab\"/></a>"
      ]
    },
    {
      "cell_type": "code",
      "source": [
        "# Topological + one-pass bellman-ford for finding shortest path 0r longest\n",
        "# Topological sort keeps the ordering of uv, if vist v has to visit u first\n",
        "#Do one Topo + One Pass Bellman-ford\n",
        "def topological_sort(graph,v,visited,depature,time): \n",
        "  ##post-dfs\n",
        "  visited[v]=True\n",
        "  for nei in graph.adj[v]:\n",
        "    if visited[v]==False:\n",
        "      time =topological_sort(graph,v,visited,depature,time)\n",
        "  depature[time]=v\n",
        "  time+=1\n",
        "  return time \n",
        "# depature -> find the reversed DFS order for visiting all nodes\n",
        "\n",
        "def bellman_ford(graph, v, visited,depature,cost,n,src) :\n",
        "  #cost -> record max distance of each pair source and destination \n",
        "  #negative weight, to find the shortest distance \n",
        "  #then negative back for finding the longest distance\n",
        "  depature.reverse()\n",
        "  cost =[sys.maxsize]*n\n",
        "  cost[src] =0\n",
        "  for i in range(len(depature)):\n",
        "    node= depature[i]\n",
        "    for nei,w  in graph.adj[node]:\n",
        "      w=-1\n",
        "      if cost[node]!=sys.maxsize and cost[node]+w <cost[nei]:\n",
        "        cost[nei]=cost[node]+w\n",
        "  return list(-i for i in cost)\n",
        "\n",
        "\n",
        "\n",
        "\n"
      ],
      "metadata": {
        "id": "3bXM627Ccre2"
      },
      "execution_count": null,
      "outputs": []
    },
    {
      "cell_type": "code",
      "source": [
        ""
      ],
      "metadata": {
        "id": "1qdQbIEFFbg7"
      },
      "execution_count": null,
      "outputs": []
    }
  ]
}